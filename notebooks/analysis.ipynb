{
 "cells": [
  {
   "cell_type": "code",
   "execution_count": 163,
   "metadata": {},
   "outputs": [],
   "source": [
    "import pandas as pd\n",
    "import numpy as np\n",
    "import sidetable\n",
    "import seaborn as sns\n",
    "import matplotlib.pyplot as plt\n",
    "from matplotlib.colors import LinearSegmentedColormap\n",
    "\n",
    "\n",
    "\n",
    "import warnings\n",
    "warnings.filterwarnings('ignore')"
   ]
  },
  {
   "cell_type": "markdown",
   "metadata": {},
   "source": [
    "<div style=\"background-color: aliceblue; border: 1.5px solid blue; border-left: 5px solid blue; padding: 0.8em; font-size: 20px\">\n",
    "<strong>1. DATA INFORMATION AND DATA LOADING</strong>\n",
    "</div>"
   ]
  },
  {
   "cell_type": "markdown",
   "metadata": {},
   "source": [
    "Los datos utilizados para este proyecto parten de archivos xml que pueden encontrarse en este [enlace](https://github.com/abachaa/LiveQA_MedicalTask_TREC2017/tree/master)."
   ]
  },
  {
   "cell_type": "code",
   "execution_count": 124,
   "metadata": {},
   "outputs": [],
   "source": [
    "df = pd.read_json('../data/json/train_cleaned.json')"
   ]
  },
  {
   "cell_type": "code",
   "execution_count": 125,
   "metadata": {},
   "outputs": [],
   "source": [
    "df = pd.json_normalize(df['nlm_question'])"
   ]
  },
  {
   "cell_type": "code",
   "execution_count": 126,
   "metadata": {},
   "outputs": [
    {
     "data": {
      "text/html": [
       "<div>\n",
       "<style scoped>\n",
       "    .dataframe tbody tr th:only-of-type {\n",
       "        vertical-align: middle;\n",
       "    }\n",
       "\n",
       "    .dataframe tbody tr th {\n",
       "        vertical-align: top;\n",
       "    }\n",
       "\n",
       "    .dataframe thead th {\n",
       "        text-align: right;\n",
       "    }\n",
       "</style>\n",
       "<table border=\"1\" class=\"dataframe\">\n",
       "  <thead>\n",
       "    <tr style=\"text-align: right;\">\n",
       "      <th></th>\n",
       "      <th>subject</th>\n",
       "      <th>message</th>\n",
       "      <th>qid</th>\n",
       "      <th>f_ref</th>\n",
       "      <th>sub_questions.sub_question</th>\n",
       "    </tr>\n",
       "  </thead>\n",
       "  <tbody>\n",
       "    <tr>\n",
       "      <th>0</th>\n",
       "      <td>Lyme Disease</td>\n",
       "      <td>12 years ago I was bitten by tick while deer h...</td>\n",
       "      <td>1.0</td>\n",
       "      <td>None</td>\n",
       "      <td>[{'annotations': {'focus': ['Lyme Disease'], '...</td>\n",
       "    </tr>\n",
       "    <tr>\n",
       "      <th>1</th>\n",
       "      <td>Raynauds Syndrome</td>\n",
       "      <td>My sons middle toe turned white after being in...</td>\n",
       "      <td>2.0</td>\n",
       "      <td>None</td>\n",
       "      <td>[{'annotations': {'focus': ['Raynauds Syndrome...</td>\n",
       "    </tr>\n",
       "    <tr>\n",
       "      <th>2</th>\n",
       "      <td>burn to my wrist</td>\n",
       "      <td>Hello I burnt my wrist 2 days ago and after la...</td>\n",
       "      <td>5.0</td>\n",
       "      <td>None</td>\n",
       "      <td>[{'annotations': {'focus': ['burn'], 'type_val...</td>\n",
       "    </tr>\n",
       "    <tr>\n",
       "      <th>3</th>\n",
       "      <td>treatment of parkinson</td>\n",
       "      <td>I AM HAVING PARKINSON FOR LAST 8 YEARS. SO FAR...</td>\n",
       "      <td>6.0</td>\n",
       "      <td>None</td>\n",
       "      <td>[{'annotations': {'focus': ['Parkinson'], 'typ...</td>\n",
       "    </tr>\n",
       "    <tr>\n",
       "      <th>4</th>\n",
       "      <td>Periventricular Heterotopia.  Scoliosis  - pos...</td>\n",
       "      <td>Question in laymen terms: Has any genetic or o...</td>\n",
       "      <td>8.0</td>\n",
       "      <td>None</td>\n",
       "      <td>[{'annotations': {'focus': ['Periventricular H...</td>\n",
       "    </tr>\n",
       "  </tbody>\n",
       "</table>\n",
       "</div>"
      ],
      "text/plain": [
       "                                             subject  \\\n",
       "0                                       Lyme Disease   \n",
       "1                                  Raynauds Syndrome   \n",
       "2                                   burn to my wrist   \n",
       "3                             treatment of parkinson   \n",
       "4  Periventricular Heterotopia.  Scoliosis  - pos...   \n",
       "\n",
       "                                             message  qid f_ref  \\\n",
       "0  12 years ago I was bitten by tick while deer h...  1.0  None   \n",
       "1  My sons middle toe turned white after being in...  2.0  None   \n",
       "2  Hello I burnt my wrist 2 days ago and after la...  5.0  None   \n",
       "3  I AM HAVING PARKINSON FOR LAST 8 YEARS. SO FAR...  6.0  None   \n",
       "4  Question in laymen terms: Has any genetic or o...  8.0  None   \n",
       "\n",
       "                          sub_questions.sub_question  \n",
       "0  [{'annotations': {'focus': ['Lyme Disease'], '...  \n",
       "1  [{'annotations': {'focus': ['Raynauds Syndrome...  \n",
       "2  [{'annotations': {'focus': ['burn'], 'type_val...  \n",
       "3  [{'annotations': {'focus': ['Parkinson'], 'typ...  \n",
       "4  [{'annotations': {'focus': ['Periventricular H...  "
      ]
     },
     "execution_count": 126,
     "metadata": {},
     "output_type": "execute_result"
    }
   ],
   "source": [
    "df.head()"
   ]
  },
  {
   "cell_type": "code",
   "execution_count": 127,
   "metadata": {},
   "outputs": [
    {
     "data": {
      "text/plain": [
       "(446, 5)"
      ]
     },
     "execution_count": 127,
     "metadata": {},
     "output_type": "execute_result"
    }
   ],
   "source": [
    "df.shape"
   ]
  },
  {
   "cell_type": "code",
   "execution_count": 128,
   "metadata": {},
   "outputs": [
    {
     "name": "stdout",
     "output_type": "stream",
     "text": [
      "[{'annotations': {'focus': ['Lyme Disease'], 'type_value': 'Information'}, 'answers': {'answer': [{'value': 'Lyme disease tests are used to determine if a person with characteristic symptoms has been infected by Borrelia burgdorferi. If the doctor suspects a recent infection, then she may order both an IgM and IgG antibody blood test. If they are negative but symptoms persist, then the tests may be ordered again a few weeks later…Lyme disease can sometimes be challenging to diagnose', 'answerid': None, 'pairid': None}]}, 'subqid': None}]\n"
     ]
    }
   ],
   "source": [
    "print(df['sub_questions.sub_question'][0])"
   ]
  },
  {
   "cell_type": "code",
   "execution_count": 129,
   "metadata": {},
   "outputs": [],
   "source": [
    "expanded_sub_questions = pd.json_normalize(df['sub_questions.sub_question'].explode())"
   ]
  },
  {
   "cell_type": "code",
   "execution_count": 130,
   "metadata": {},
   "outputs": [],
   "source": [
    "# We join expanded df with original df\n",
    "df = df.drop(columns=['sub_questions.sub_question']).join(expanded_sub_questions)"
   ]
  },
  {
   "cell_type": "code",
   "execution_count": 131,
   "metadata": {},
   "outputs": [
    {
     "data": {
      "text/html": [
       "<div>\n",
       "<style scoped>\n",
       "    .dataframe tbody tr th:only-of-type {\n",
       "        vertical-align: middle;\n",
       "    }\n",
       "\n",
       "    .dataframe tbody tr th {\n",
       "        vertical-align: top;\n",
       "    }\n",
       "\n",
       "    .dataframe thead th {\n",
       "        text-align: right;\n",
       "    }\n",
       "</style>\n",
       "<table border=\"1\" class=\"dataframe\">\n",
       "  <thead>\n",
       "    <tr style=\"text-align: right;\">\n",
       "      <th></th>\n",
       "      <th>subject</th>\n",
       "      <th>message</th>\n",
       "      <th>qid</th>\n",
       "      <th>f_ref</th>\n",
       "      <th>subqid</th>\n",
       "      <th>annotations.focus</th>\n",
       "      <th>annotations.type_value</th>\n",
       "      <th>answers.answer</th>\n",
       "    </tr>\n",
       "  </thead>\n",
       "  <tbody>\n",
       "    <tr>\n",
       "      <th>0</th>\n",
       "      <td>Lyme Disease</td>\n",
       "      <td>12 years ago I was bitten by tick while deer h...</td>\n",
       "      <td>1.0</td>\n",
       "      <td>None</td>\n",
       "      <td>None</td>\n",
       "      <td>[Lyme Disease]</td>\n",
       "      <td>Information</td>\n",
       "      <td>[{'value': 'Lyme disease tests are used to det...</td>\n",
       "    </tr>\n",
       "    <tr>\n",
       "      <th>1</th>\n",
       "      <td>Raynauds Syndrome</td>\n",
       "      <td>My sons middle toe turned white after being in...</td>\n",
       "      <td>2.0</td>\n",
       "      <td>None</td>\n",
       "      <td>None</td>\n",
       "      <td>[Raynauds Syndrome]</td>\n",
       "      <td>Symptom</td>\n",
       "      <td>[{'value': 'Only one finger or toe or parts of...</td>\n",
       "    </tr>\n",
       "    <tr>\n",
       "      <th>2</th>\n",
       "      <td>burn to my wrist</td>\n",
       "      <td>Hello I burnt my wrist 2 days ago and after la...</td>\n",
       "      <td>5.0</td>\n",
       "      <td>None</td>\n",
       "      <td>None</td>\n",
       "      <td>[burn]</td>\n",
       "      <td>Treatment</td>\n",
       "      <td>[{'value': 'Before giving first aid, it is imp...</td>\n",
       "    </tr>\n",
       "    <tr>\n",
       "      <th>3</th>\n",
       "      <td>treatment of parkinson</td>\n",
       "      <td>I AM HAVING PARKINSON FOR LAST 8 YEARS. SO FAR...</td>\n",
       "      <td>6.0</td>\n",
       "      <td>None</td>\n",
       "      <td>None</td>\n",
       "      <td>[Parkinson]</td>\n",
       "      <td>Treatment</td>\n",
       "      <td>[{'value': 'you should know that people who ha...</td>\n",
       "    </tr>\n",
       "    <tr>\n",
       "      <th>4</th>\n",
       "      <td>Periventricular Heterotopia.  Scoliosis  - pos...</td>\n",
       "      <td>Question in laymen terms: Has any genetic or o...</td>\n",
       "      <td>8.0</td>\n",
       "      <td>None</td>\n",
       "      <td>None</td>\n",
       "      <td>[Periventricular Heterotopia/ Scoliosis]</td>\n",
       "      <td>information</td>\n",
       "      <td>[{'value': 'Isolated lissencephaly sequence (I...</td>\n",
       "    </tr>\n",
       "  </tbody>\n",
       "</table>\n",
       "</div>"
      ],
      "text/plain": [
       "                                             subject  \\\n",
       "0                                       Lyme Disease   \n",
       "1                                  Raynauds Syndrome   \n",
       "2                                   burn to my wrist   \n",
       "3                             treatment of parkinson   \n",
       "4  Periventricular Heterotopia.  Scoliosis  - pos...   \n",
       "\n",
       "                                             message  qid f_ref subqid  \\\n",
       "0  12 years ago I was bitten by tick while deer h...  1.0  None   None   \n",
       "1  My sons middle toe turned white after being in...  2.0  None   None   \n",
       "2  Hello I burnt my wrist 2 days ago and after la...  5.0  None   None   \n",
       "3  I AM HAVING PARKINSON FOR LAST 8 YEARS. SO FAR...  6.0  None   None   \n",
       "4  Question in laymen terms: Has any genetic or o...  8.0  None   None   \n",
       "\n",
       "                          annotations.focus annotations.type_value  \\\n",
       "0                            [Lyme Disease]            Information   \n",
       "1                       [Raynauds Syndrome]                Symptom   \n",
       "2                                    [burn]              Treatment   \n",
       "3                               [Parkinson]              Treatment   \n",
       "4  [Periventricular Heterotopia/ Scoliosis]            information   \n",
       "\n",
       "                                      answers.answer  \n",
       "0  [{'value': 'Lyme disease tests are used to det...  \n",
       "1  [{'value': 'Only one finger or toe or parts of...  \n",
       "2  [{'value': 'Before giving first aid, it is imp...  \n",
       "3  [{'value': 'you should know that people who ha...  \n",
       "4  [{'value': 'Isolated lissencephaly sequence (I...  "
      ]
     },
     "execution_count": 131,
     "metadata": {},
     "output_type": "execute_result"
    }
   ],
   "source": [
    "df.head()"
   ]
  },
  {
   "cell_type": "code",
   "execution_count": 143,
   "metadata": {},
   "outputs": [
    {
     "data": {
      "text/plain": [
       "(446, 7)"
      ]
     },
     "execution_count": 143,
     "metadata": {},
     "output_type": "execute_result"
    }
   ],
   "source": [
    "df.shape"
   ]
  },
  {
   "cell_type": "code",
   "execution_count": 144,
   "metadata": {},
   "outputs": [
    {
     "data": {
      "text/plain": [
       "subject                   object\n",
       "message                   object\n",
       "qid                       object\n",
       "subqid                    object\n",
       "annotations.focus         object\n",
       "annotations.type_value    object\n",
       "value                     object\n",
       "dtype: object"
      ]
     },
     "execution_count": 144,
     "metadata": {},
     "output_type": "execute_result"
    }
   ],
   "source": [
    "df.dtypes"
   ]
  },
  {
   "cell_type": "code",
   "execution_count": 132,
   "metadata": {},
   "outputs": [
    {
     "data": {
      "text/html": [
       "<div>\n",
       "<style scoped>\n",
       "    .dataframe tbody tr th:only-of-type {\n",
       "        vertical-align: middle;\n",
       "    }\n",
       "\n",
       "    .dataframe tbody tr th {\n",
       "        vertical-align: top;\n",
       "    }\n",
       "\n",
       "    .dataframe thead th {\n",
       "        text-align: right;\n",
       "    }\n",
       "</style>\n",
       "<table border=\"1\" class=\"dataframe\">\n",
       "  <thead>\n",
       "    <tr style=\"text-align: right;\">\n",
       "      <th></th>\n",
       "      <th>missing</th>\n",
       "      <th>total</th>\n",
       "      <th>percent</th>\n",
       "    </tr>\n",
       "  </thead>\n",
       "  <tbody>\n",
       "    <tr>\n",
       "      <th>f_ref</th>\n",
       "      <td>246</td>\n",
       "      <td>446</td>\n",
       "      <td>55.156951</td>\n",
       "    </tr>\n",
       "    <tr>\n",
       "      <th>subqid</th>\n",
       "      <td>246</td>\n",
       "      <td>446</td>\n",
       "      <td>55.156951</td>\n",
       "    </tr>\n",
       "    <tr>\n",
       "      <th>subject</th>\n",
       "      <td>0</td>\n",
       "      <td>446</td>\n",
       "      <td>0.000000</td>\n",
       "    </tr>\n",
       "    <tr>\n",
       "      <th>message</th>\n",
       "      <td>0</td>\n",
       "      <td>446</td>\n",
       "      <td>0.000000</td>\n",
       "    </tr>\n",
       "    <tr>\n",
       "      <th>qid</th>\n",
       "      <td>0</td>\n",
       "      <td>446</td>\n",
       "      <td>0.000000</td>\n",
       "    </tr>\n",
       "    <tr>\n",
       "      <th>annotations.focus</th>\n",
       "      <td>0</td>\n",
       "      <td>446</td>\n",
       "      <td>0.000000</td>\n",
       "    </tr>\n",
       "    <tr>\n",
       "      <th>annotations.type_value</th>\n",
       "      <td>0</td>\n",
       "      <td>446</td>\n",
       "      <td>0.000000</td>\n",
       "    </tr>\n",
       "    <tr>\n",
       "      <th>answers.answer</th>\n",
       "      <td>0</td>\n",
       "      <td>446</td>\n",
       "      <td>0.000000</td>\n",
       "    </tr>\n",
       "  </tbody>\n",
       "</table>\n",
       "</div>"
      ],
      "text/plain": [
       "                        missing  total    percent\n",
       "f_ref                       246    446  55.156951\n",
       "subqid                      246    446  55.156951\n",
       "subject                       0    446   0.000000\n",
       "message                       0    446   0.000000\n",
       "qid                           0    446   0.000000\n",
       "annotations.focus             0    446   0.000000\n",
       "annotations.type_value        0    446   0.000000\n",
       "answers.answer                0    446   0.000000"
      ]
     },
     "execution_count": 132,
     "metadata": {},
     "output_type": "execute_result"
    }
   ],
   "source": [
    "df.stb.missing()"
   ]
  },
  {
   "cell_type": "code",
   "execution_count": 150,
   "metadata": {},
   "outputs": [
    {
     "data": {
      "text/plain": [
       "array(['Information', 'Symptom', 'Treatment', 'information',\n",
       "       'Complication', 'Indication', 'Diagnosis', 'Organization',\n",
       "       'Susceptibility', 'Prognosis', 'Cause', 'Diagnose_me',\n",
       "       'Association', 'susceptibility', 'treatment', 'contraindication',\n",
       "       'cause', 'symptom', 'genetic changes', 'inheritance', 'resources',\n",
       "       'prevention', 'diagnosis', 'prognosis', 'complication', 'tapering',\n",
       "       'side effects', 'dosage', 'association', 'indication'],\n",
       "      dtype=object)"
      ]
     },
     "execution_count": 150,
     "metadata": {},
     "output_type": "execute_result"
    }
   ],
   "source": [
    "df['annotations.type_value'].unique()"
   ]
  },
  {
   "cell_type": "code",
   "execution_count": 152,
   "metadata": {},
   "outputs": [],
   "source": [
    "# vemos que algunos valores se repiten excepto por la mayúscula, por lo que cambiamos a minúscula la columna.\n",
    "df['annotations.type_value'] = df['annotations.type_value'].apply(lambda x: x.lower())"
   ]
  },
  {
   "cell_type": "code",
   "execution_count": 153,
   "metadata": {},
   "outputs": [
    {
     "data": {
      "text/plain": [
       "array(['information', 'symptom', 'treatment', 'complication',\n",
       "       'indication', 'diagnosis', 'organization', 'susceptibility',\n",
       "       'prognosis', 'cause', 'diagnose_me', 'association',\n",
       "       'contraindication', 'genetic changes', 'inheritance', 'resources',\n",
       "       'prevention', 'tapering', 'side effects', 'dosage'], dtype=object)"
      ]
     },
     "execution_count": 153,
     "metadata": {},
     "output_type": "execute_result"
    }
   ],
   "source": [
    "df['annotations.type_value'].unique()"
   ]
  },
  {
   "cell_type": "code",
   "execution_count": 154,
   "metadata": {},
   "outputs": [
    {
     "data": {
      "text/plain": [
       "20"
      ]
     },
     "execution_count": 154,
     "metadata": {},
     "output_type": "execute_result"
    }
   ],
   "source": [
    "len(df['annotations.type_value'].unique())"
   ]
  },
  {
   "cell_type": "code",
   "execution_count": 180,
   "metadata": {},
   "outputs": [
    {
     "data": {
      "text/html": [
       "<div>\n",
       "<style scoped>\n",
       "    .dataframe tbody tr th:only-of-type {\n",
       "        vertical-align: middle;\n",
       "    }\n",
       "\n",
       "    .dataframe tbody tr th {\n",
       "        vertical-align: top;\n",
       "    }\n",
       "\n",
       "    .dataframe thead th {\n",
       "        text-align: right;\n",
       "    }\n",
       "</style>\n",
       "<table border=\"1\" class=\"dataframe\">\n",
       "  <thead>\n",
       "    <tr style=\"text-align: right;\">\n",
       "      <th></th>\n",
       "      <th>subject</th>\n",
       "      <th>message</th>\n",
       "      <th>qid</th>\n",
       "      <th>subqid</th>\n",
       "      <th>annotations.focus</th>\n",
       "      <th>annotations.type_value</th>\n",
       "      <th>value</th>\n",
       "    </tr>\n",
       "  </thead>\n",
       "  <tbody>\n",
       "    <tr>\n",
       "      <th>38</th>\n",
       "      <td>Need help!</td>\n",
       "      <td>I have a knot about the size of a BB in my rig...</td>\n",
       "      <td>55.0</td>\n",
       "      <td>None</td>\n",
       "      <td>[a knot about the size of a BB in my right for...</td>\n",
       "      <td>diagnose_me</td>\n",
       "      <td>It is arm lump?  An arm lump is a protuberance...</td>\n",
       "    </tr>\n",
       "  </tbody>\n",
       "</table>\n",
       "</div>"
      ],
      "text/plain": [
       "       subject                                            message   qid  \\\n",
       "38  Need help!  I have a knot about the size of a BB in my rig...  55.0   \n",
       "\n",
       "   subqid                                  annotations.focus  \\\n",
       "38   None  [a knot about the size of a BB in my right for...   \n",
       "\n",
       "   annotations.type_value                                              value  \n",
       "38            diagnose_me  It is arm lump?  An arm lump is a protuberance...  "
      ]
     },
     "execution_count": 180,
     "metadata": {},
     "output_type": "execute_result"
    }
   ],
   "source": [
    "df[df['annotations.type_value'] == 'diagnose_me']"
   ]
  },
  {
   "cell_type": "code",
   "execution_count": 181,
   "metadata": {},
   "outputs": [],
   "source": [
    "df['annotations.type_value'] = df['annotations.type_value'].apply(lambda x: x.replace('diagnose_me', 'diagnosis'))"
   ]
  },
  {
   "cell_type": "code",
   "execution_count": 187,
   "metadata": {},
   "outputs": [
    {
     "data": {
      "image/png": "[encoded data removed]",
      "text/plain": [
       "<Figure size 1000x600 with 1 Axes>"
      ]
     },
     "metadata": {},
     "output_type": "display_data"
    }
   ],
   "source": [
    "my_countplot_palette = LinearSegmentedColormap.from_list('Gradient', ['darkblue', 'skyblue', 'lightblue'])\n",
    "num_bars = (len(df['annotations.type_value'].unique()))\n",
    "\n",
    "plt.figure(figsize=(10, 6))\n",
    "sns.countplot(y='annotations.type_value',\n",
    "            data=df, palette= my_countplot_palette(np.linspace(0, 1, num_bars)),\n",
    "            order=df['annotations.type_value'].value_counts().index)\n",
    "\n",
    "plt.title('DISTRIBUTION BY INFORMATION CATEGORY', color='darkblue', fontsize=14)\n",
    "plt.xlabel('')\n",
    "plt.ylabel('')\n",
    "\n",
    "plt.show()"
   ]
  },
  {
   "cell_type": "code",
   "execution_count": 134,
   "metadata": {},
   "outputs": [
    {
     "name": "stdout",
     "output_type": "stream",
     "text": [
      "[{'value': 'Lyme disease tests are used to determine if a person with characteristic symptoms has been infected by Borrelia burgdorferi. If the doctor suspects a recent infection, then she may order both an IgM and IgG antibody blood test. If they are negative but symptoms persist, then the tests may be ordered again a few weeks later…Lyme disease can sometimes be challenging to diagnose', 'answerid': None, 'pairid': None}]\n"
     ]
    }
   ],
   "source": [
    "print(df['answers.answer'][0])"
   ]
  },
  {
   "cell_type": "code",
   "execution_count": 135,
   "metadata": {},
   "outputs": [],
   "source": [
    "expanded_answers = pd.json_normalize(df['answers.answer'].explode())"
   ]
  },
  {
   "cell_type": "code",
   "execution_count": 136,
   "metadata": {},
   "outputs": [],
   "source": [
    "df = df.drop(columns=['answers.answer']).join(expanded_answers)"
   ]
  },
  {
   "cell_type": "code",
   "execution_count": 137,
   "metadata": {},
   "outputs": [
    {
     "data": {
      "text/html": [
       "<div>\n",
       "<style scoped>\n",
       "    .dataframe tbody tr th:only-of-type {\n",
       "        vertical-align: middle;\n",
       "    }\n",
       "\n",
       "    .dataframe tbody tr th {\n",
       "        vertical-align: top;\n",
       "    }\n",
       "\n",
       "    .dataframe thead th {\n",
       "        text-align: right;\n",
       "    }\n",
       "</style>\n",
       "<table border=\"1\" class=\"dataframe\">\n",
       "  <thead>\n",
       "    <tr style=\"text-align: right;\">\n",
       "      <th></th>\n",
       "      <th>subject</th>\n",
       "      <th>message</th>\n",
       "      <th>qid</th>\n",
       "      <th>f_ref</th>\n",
       "      <th>subqid</th>\n",
       "      <th>annotations.focus</th>\n",
       "      <th>annotations.type_value</th>\n",
       "      <th>value</th>\n",
       "      <th>answerid</th>\n",
       "      <th>pairid</th>\n",
       "    </tr>\n",
       "  </thead>\n",
       "  <tbody>\n",
       "    <tr>\n",
       "      <th>0</th>\n",
       "      <td>Lyme Disease</td>\n",
       "      <td>12 years ago I was bitten by tick while deer h...</td>\n",
       "      <td>1.0</td>\n",
       "      <td>None</td>\n",
       "      <td>None</td>\n",
       "      <td>[Lyme Disease]</td>\n",
       "      <td>Information</td>\n",
       "      <td>Lyme disease tests are used to determine if a ...</td>\n",
       "      <td>None</td>\n",
       "      <td>NaN</td>\n",
       "    </tr>\n",
       "    <tr>\n",
       "      <th>1</th>\n",
       "      <td>Raynauds Syndrome</td>\n",
       "      <td>My sons middle toe turned white after being in...</td>\n",
       "      <td>2.0</td>\n",
       "      <td>None</td>\n",
       "      <td>None</td>\n",
       "      <td>[Raynauds Syndrome]</td>\n",
       "      <td>Symptom</td>\n",
       "      <td>Only one finger or toe or parts of one or more...</td>\n",
       "      <td>None</td>\n",
       "      <td>NaN</td>\n",
       "    </tr>\n",
       "    <tr>\n",
       "      <th>2</th>\n",
       "      <td>burn to my wrist</td>\n",
       "      <td>Hello I burnt my wrist 2 days ago and after la...</td>\n",
       "      <td>5.0</td>\n",
       "      <td>None</td>\n",
       "      <td>None</td>\n",
       "      <td>[burn]</td>\n",
       "      <td>Treatment</td>\n",
       "      <td>Before giving first aid, it is important to de...</td>\n",
       "      <td>None</td>\n",
       "      <td>NaN</td>\n",
       "    </tr>\n",
       "    <tr>\n",
       "      <th>3</th>\n",
       "      <td>treatment of parkinson</td>\n",
       "      <td>I AM HAVING PARKINSON FOR LAST 8 YEARS. SO FAR...</td>\n",
       "      <td>6.0</td>\n",
       "      <td>None</td>\n",
       "      <td>None</td>\n",
       "      <td>[Parkinson]</td>\n",
       "      <td>Treatment</td>\n",
       "      <td>you should know that people who have Parkinson...</td>\n",
       "      <td>None</td>\n",
       "      <td>NaN</td>\n",
       "    </tr>\n",
       "    <tr>\n",
       "      <th>4</th>\n",
       "      <td>Periventricular Heterotopia.  Scoliosis  - pos...</td>\n",
       "      <td>Question in laymen terms: Has any genetic or o...</td>\n",
       "      <td>8.0</td>\n",
       "      <td>None</td>\n",
       "      <td>None</td>\n",
       "      <td>[Periventricular Heterotopia/ Scoliosis]</td>\n",
       "      <td>information</td>\n",
       "      <td>Isolated lissencephaly sequence (ILS) is a con...</td>\n",
       "      <td>None</td>\n",
       "      <td>NaN</td>\n",
       "    </tr>\n",
       "  </tbody>\n",
       "</table>\n",
       "</div>"
      ],
      "text/plain": [
       "                                             subject  \\\n",
       "0                                       Lyme Disease   \n",
       "1                                  Raynauds Syndrome   \n",
       "2                                   burn to my wrist   \n",
       "3                             treatment of parkinson   \n",
       "4  Periventricular Heterotopia.  Scoliosis  - pos...   \n",
       "\n",
       "                                             message  qid f_ref subqid  \\\n",
       "0  12 years ago I was bitten by tick while deer h...  1.0  None   None   \n",
       "1  My sons middle toe turned white after being in...  2.0  None   None   \n",
       "2  Hello I burnt my wrist 2 days ago and after la...  5.0  None   None   \n",
       "3  I AM HAVING PARKINSON FOR LAST 8 YEARS. SO FAR...  6.0  None   None   \n",
       "4  Question in laymen terms: Has any genetic or o...  8.0  None   None   \n",
       "\n",
       "                          annotations.focus annotations.type_value  \\\n",
       "0                            [Lyme Disease]            Information   \n",
       "1                       [Raynauds Syndrome]                Symptom   \n",
       "2                                    [burn]              Treatment   \n",
       "3                               [Parkinson]              Treatment   \n",
       "4  [Periventricular Heterotopia/ Scoliosis]            information   \n",
       "\n",
       "                                               value answerid  pairid  \n",
       "0  Lyme disease tests are used to determine if a ...     None     NaN  \n",
       "1  Only one finger or toe or parts of one or more...     None     NaN  \n",
       "2  Before giving first aid, it is important to de...     None     NaN  \n",
       "3  you should know that people who have Parkinson...     None     NaN  \n",
       "4  Isolated lissencephaly sequence (ILS) is a con...     None     NaN  "
      ]
     },
     "execution_count": 137,
     "metadata": {},
     "output_type": "execute_result"
    }
   ],
   "source": [
    "df.head()"
   ]
  },
  {
   "cell_type": "code",
   "execution_count": 138,
   "metadata": {},
   "outputs": [
    {
     "data": {
      "text/plain": [
       "array([None, '11373', '1-136434885', '1-123453375', '1-118260435',\n",
       "       '1-132032443', '17730', '1-123897705', '1-133748113',\n",
       "       '1-134322567', '1-135752923', '19832', '1-136400295',\n",
       "       '1-131374625', '1-133026625', '1-135900462', '13550',\n",
       "       '1-136744885', '1-132036525', '1-120034865', '13506',\n",
       "       '1-136858845', '5288', '1-136022315', '1-135934082', 'NF_61',\n",
       "       '14262', '1-136961537', '1-134470695', '1-132036455'], dtype=object)"
      ]
     },
     "execution_count": 138,
     "metadata": {},
     "output_type": "execute_result"
    }
   ],
   "source": [
    "df['f_ref'].unique()[:30]"
   ]
  },
  {
   "cell_type": "code",
   "execution_count": 139,
   "metadata": {},
   "outputs": [
    {
     "data": {
      "text/plain": [
       "array([None, 'Q1-S1-A1', 'Q1-S1-A2', 'Q2-S1-A1', 'Q2-S1-A2', 'Q3-S1-A1',\n",
       "       'Q4-S1-A1', 'Q5-S1-A1', 'Q6-S1-A1', 'Q6-S1-A2', 'Q6-S1-A3',\n",
       "       'Q6-S2-A1', 'Q6-S2-A2', 'Q7-S1-A1', 'Q8-S1-A1', 'Q9-S1-A1',\n",
       "       'Q10-S1-A1', 'Q10-S1-A2', 'Q11-S1-A1', 'Q11-S2-A1', 'Q12-S1-A1',\n",
       "       'Q13-S1-A1', 'Q14-S1-A1', 'Q15-S1-A1', 'Q15-S1-A2', 'Q15-S1-A3',\n",
       "       'Q16-S1-A1', 'Q17-S1-A1', 'Q17-S2-A1', 'Q18-S1-A1'], dtype=object)"
      ]
     },
     "execution_count": 139,
     "metadata": {},
     "output_type": "execute_result"
    }
   ],
   "source": [
    "df['answerid'].unique()[:30]"
   ]
  },
  {
   "cell_type": "code",
   "execution_count": 140,
   "metadata": {},
   "outputs": [
    {
     "data": {
      "text/plain": [
       "array([nan,  1.,  2.,  3.,  4.,  5.,  6.,  7.,  8.,  9., 10., 12., 13.,\n",
       "       14., 15., 16., 17., 18., 19., 20., 21., 23., 25., 26., 27., 30.,\n",
       "       36., 37., 38., 39.])"
      ]
     },
     "execution_count": 140,
     "metadata": {},
     "output_type": "execute_result"
    }
   ],
   "source": [
    "df['pairid'].unique()[:30]"
   ]
  },
  {
   "cell_type": "code",
   "execution_count": 141,
   "metadata": {},
   "outputs": [],
   "source": [
    "# These columns does not contribute to our model, so we delete them.\n",
    "df.drop(['f_ref', 'answerid', 'pairid'], axis=1, inplace=True)"
   ]
  },
  {
   "cell_type": "code",
   "execution_count": 142,
   "metadata": {},
   "outputs": [
    {
     "data": {
      "text/plain": [
       "np.int64(2)"
      ]
     },
     "execution_count": 142,
     "metadata": {},
     "output_type": "execute_result"
    }
   ],
   "source": [
    "df['annotations.focus'].apply(lambda x: len(x) > 1).sum()"
   ]
  },
  {
   "cell_type": "code",
   "execution_count": 133,
   "metadata": {},
   "outputs": [
    {
     "data": {
      "text/html": [
       "<div>\n",
       "<style scoped>\n",
       "    .dataframe tbody tr th:only-of-type {\n",
       "        vertical-align: middle;\n",
       "    }\n",
       "\n",
       "    .dataframe tbody tr th {\n",
       "        vertical-align: top;\n",
       "    }\n",
       "\n",
       "    .dataframe thead th {\n",
       "        text-align: right;\n",
       "    }\n",
       "</style>\n",
       "<table border=\"1\" class=\"dataframe\">\n",
       "  <thead>\n",
       "    <tr style=\"text-align: right;\">\n",
       "      <th></th>\n",
       "      <th>subject</th>\n",
       "      <th>message</th>\n",
       "      <th>qid</th>\n",
       "      <th>f_ref</th>\n",
       "      <th>subqid</th>\n",
       "      <th>annotations.focus</th>\n",
       "      <th>annotations.type_value</th>\n",
       "      <th>answers.answer</th>\n",
       "    </tr>\n",
       "  </thead>\n",
       "  <tbody>\n",
       "    <tr>\n",
       "      <th>58</th>\n",
       "      <td>sir my testicular is small in size another is ...</td>\n",
       "      <td></td>\n",
       "      <td>78.0</td>\n",
       "      <td>None</td>\n",
       "      <td>None</td>\n",
       "      <td>[testicular is small in size]</td>\n",
       "      <td>Treatment</td>\n",
       "      <td>[{'value': 'Treatment of male hypogonadism/and...</td>\n",
       "    </tr>\n",
       "  </tbody>\n",
       "</table>\n",
       "</div>"
      ],
      "text/plain": [
       "                                              subject message   qid f_ref  \\\n",
       "58  sir my testicular is small in size another is ...          78.0  None   \n",
       "\n",
       "   subqid              annotations.focus annotations.type_value  \\\n",
       "58   None  [testicular is small in size]              Treatment   \n",
       "\n",
       "                                       answers.answer  \n",
       "58  [{'value': 'Treatment of male hypogonadism/and...  "
      ]
     },
     "execution_count": 133,
     "metadata": {},
     "output_type": "execute_result"
    }
   ],
   "source": [
    "df[df['subject'] == 'sir my testicular is small in size another is normal what is medical suggestion.thanks']"
   ]
  }
 ],
 "metadata": {
  "kernelspec": {
   "display_name": "adalabenv",
   "language": "python",
   "name": "python3"
  },
  "language_info": {
   "codemirror_mode": {
    "name": "ipython",
    "version": 3
   },
   "file_extension": ".py",
   "mimetype": "text/x-python",
   "name": "python",
   "nbconvert_exporter": "python",
   "pygments_lexer": "ipython3",
   "version": "3.11.6"
  }
 },
 "nbformat": 4,
 "nbformat_minor": 2
}
