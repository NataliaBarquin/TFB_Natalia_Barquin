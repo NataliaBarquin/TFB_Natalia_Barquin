{
 "cells": [
  {
   "cell_type": "markdown",
   "metadata": {},
   "source": [
    "<div style='border-bottom: 2px solid mediumblue; padding: 0.5em;'>\n",
    "    <strong style='color: mediumblue; font-size: 30px;'>CLASSIFICATION.</strong>\n",
    "    <br>\n",
    "</div>"
   ]
  },
  {
   "cell_type": "code",
   "execution_count": 16,
   "metadata": {},
   "outputs": [],
   "source": [
    "import pandas as pd\n",
    "import numpy as np\n",
    "import seaborn as sns\n",
    "import matplotlib.pyplot as plt\n",
    "import gensim.downloader\n",
    "from gensim.models import Word2Vec\n",
    "from gensim.parsing.preprocessing import preprocess_string\n",
    "from sklearn.preprocessing import LabelEncoder\n",
    "from sklearn.model_selection import train_test_split\n",
    "from keras.preprocessing.text import Tokenizer\n",
    "from tensorflow.keras.preprocessing.sequence import pad_sequences\n",
    "from keras.models import Sequential\n",
    "from keras.layers import Embedding, LSTM, Dense, Dropout\n",
    "from keras.optimizers import Adam\n",
    "import pickle\n",
    "\n",
    "import warnings\n",
    "warnings.filterwarnings('ignore')"
   ]
  },
  {
   "cell_type": "code",
   "execution_count": 17,
   "metadata": {},
   "outputs": [],
   "source": [
    "df = pd.read_csv('../data/csv/train_dataset/df_clean.csv')"
   ]
  },
  {
   "cell_type": "markdown",
   "metadata": {},
   "source": [
    "<div style=\"background-color: aliceblue; border: 1.5px solid blue; border-left: 5px solid blue; padding: 0.8em; font-size: 20px\">\n",
    "<strong>1. WORD EMBEDDINGS</strong>\n",
    "</div>"
   ]
  },
  {
   "cell_type": "markdown",
   "metadata": {},
   "source": [
    "<div style=\"background-color: blanchedalmond; border: 1.5px solid darkorange; border-left: 5px solid darkorange; padding: 0.5em; font-size: 16px\">\n",
    "<strong>1.1. Global Vectors</strong>\n",
    "</div>"
   ]
  },
  {
   "cell_type": "code",
   "execution_count": 18,
   "metadata": {},
   "outputs": [],
   "source": [
    "glove_vectors = gensim.downloader.load('glove-wiki-gigaword-100')"
   ]
  },
  {
   "cell_type": "code",
   "execution_count": 19,
   "metadata": {},
   "outputs": [
    {
     "name": "stdout",
     "output_type": "stream",
     "text": [
      "10 words most similar to 'cancer':\n",
      "breast: 0.8210738301277161\n",
      "prostate: 0.8065967559814453\n",
      "disease: 0.7853677272796631\n",
      "diabetes: 0.778843879699707\n",
      "cancers: 0.7661833763122559\n",
      "patients: 0.751171350479126\n",
      "leukemia: 0.7485109567642212\n",
      "alzheimer: 0.744443953037262\n",
      "lung: 0.7317106127738953\n",
      "diseases: 0.7292541265487671\n"
     ]
    }
   ],
   "source": [
    "try:\n",
    "    similar_words = glove_vectors.most_similar('cancer', topn=10)\n",
    "    print(\"10 words most similar to 'cancer':\")\n",
    "    for word, similarity in similar_words:\n",
    "        print(f\"{word}: {similarity}\")\n",
    "except KeyError:\n",
    "    print(\"'cancer' is not in the vocabulary.\")"
   ]
  },
  {
   "cell_type": "markdown",
   "metadata": {},
   "source": [
    "To properly perform classification, we need the categories to be represented as integers rather than strings, so we map the column."
   ]
  },
  {
   "cell_type": "code",
   "execution_count": 20,
   "metadata": {},
   "outputs": [
    {
     "data": {
      "text/plain": [
       "array(['information', 'symptom', 'treatment', 'complication',\n",
       "       'indication', 'diagnosis', 'organization', 'susceptibility',\n",
       "       'prognosis', 'cause', 'association', 'contraindication',\n",
       "       'genetic changes', 'inheritance', 'resources', 'prevention',\n",
       "       'tapering', 'side effects', 'dosage'], dtype=object)"
      ]
     },
     "execution_count": 20,
     "metadata": {},
     "output_type": "execute_result"
    }
   ],
   "source": [
    "df['category'].unique()"
   ]
  },
  {
   "cell_type": "code",
   "execution_count": 21,
   "metadata": {},
   "outputs": [],
   "source": [
    "le = LabelEncoder()"
   ]
  },
  {
   "cell_type": "code",
   "execution_count": 22,
   "metadata": {},
   "outputs": [],
   "source": [
    "df['category_encoded'] = le.fit_transform(df['category'])"
   ]
  },
  {
   "cell_type": "code",
   "execution_count": 23,
   "metadata": {},
   "outputs": [
    {
     "data": {
      "text/html": [
       "<div>\n",
       "<style scoped>\n",
       "    .dataframe tbody tr th:only-of-type {\n",
       "        vertical-align: middle;\n",
       "    }\n",
       "\n",
       "    .dataframe tbody tr th {\n",
       "        vertical-align: top;\n",
       "    }\n",
       "\n",
       "    .dataframe thead th {\n",
       "        text-align: right;\n",
       "    }\n",
       "</style>\n",
       "<table border=\"1\" class=\"dataframe\">\n",
       "  <thead>\n",
       "    <tr style=\"text-align: right;\">\n",
       "      <th></th>\n",
       "      <th>Unnamed: 0</th>\n",
       "      <th>qid</th>\n",
       "      <th>subject</th>\n",
       "      <th>message</th>\n",
       "      <th>focus</th>\n",
       "      <th>category</th>\n",
       "      <th>answer</th>\n",
       "      <th>user_query</th>\n",
       "      <th>category_encoded</th>\n",
       "    </tr>\n",
       "  </thead>\n",
       "  <tbody>\n",
       "    <tr>\n",
       "      <th>0</th>\n",
       "      <td>0</td>\n",
       "      <td>1.0</td>\n",
       "      <td>lyme disease</td>\n",
       "      <td>12 years ago I was bitten by tick while deer h...</td>\n",
       "      <td>lyme disease</td>\n",
       "      <td>information</td>\n",
       "      <td>Lyme disease tests are used to determine if a ...</td>\n",
       "      <td>lyme disease 12 years ago I was bitten by tick...</td>\n",
       "      <td>8</td>\n",
       "    </tr>\n",
       "    <tr>\n",
       "      <th>1</th>\n",
       "      <td>1</td>\n",
       "      <td>2.0</td>\n",
       "      <td>raynauds syndrome</td>\n",
       "      <td>My sons middle toe turned white after being in...</td>\n",
       "      <td>raynauds syndrome</td>\n",
       "      <td>symptom</td>\n",
       "      <td>Only one finger or toe or parts of one or more...</td>\n",
       "      <td>raynauds syndrome My sons middle toe turned wh...</td>\n",
       "      <td>16</td>\n",
       "    </tr>\n",
       "    <tr>\n",
       "      <th>2</th>\n",
       "      <td>2</td>\n",
       "      <td>5.0</td>\n",
       "      <td>burn to my wrist</td>\n",
       "      <td>Hello I burnt my wrist 2 days ago and after la...</td>\n",
       "      <td>burn</td>\n",
       "      <td>treatment</td>\n",
       "      <td>Before giving first aid, it is important to de...</td>\n",
       "      <td>burn to my wrist Hello I burnt my wrist 2 days...</td>\n",
       "      <td>18</td>\n",
       "    </tr>\n",
       "    <tr>\n",
       "      <th>3</th>\n",
       "      <td>3</td>\n",
       "      <td>6.0</td>\n",
       "      <td>treatment of parkinson</td>\n",
       "      <td>I AM HAVING PARKINSON FOR LAST 8 YEARS. SO FAR...</td>\n",
       "      <td>parkinson</td>\n",
       "      <td>treatment</td>\n",
       "      <td>you should know that people who have Parkinson...</td>\n",
       "      <td>treatment of parkinson I AM HAVING PARKINSON F...</td>\n",
       "      <td>18</td>\n",
       "    </tr>\n",
       "    <tr>\n",
       "      <th>4</th>\n",
       "      <td>4</td>\n",
       "      <td>8.0</td>\n",
       "      <td>periventricular heterotopia.  scoliosis  - pos...</td>\n",
       "      <td>Question in laymen terms: Has any genetic or o...</td>\n",
       "      <td>periventricular heterotopia,  scoliosis</td>\n",
       "      <td>information</td>\n",
       "      <td>Isolated lissencephaly sequence (ILS) is a con...</td>\n",
       "      <td>periventricular heterotopia.  scoliosis  - pos...</td>\n",
       "      <td>8</td>\n",
       "    </tr>\n",
       "    <tr>\n",
       "      <th>...</th>\n",
       "      <td>...</td>\n",
       "      <td>...</td>\n",
       "      <td>...</td>\n",
       "      <td>...</td>\n",
       "      <td>...</td>\n",
       "      <td>...</td>\n",
       "      <td>...</td>\n",
       "      <td>...</td>\n",
       "      <td>...</td>\n",
       "    </tr>\n",
       "    <tr>\n",
       "      <th>441</th>\n",
       "      <td>441</td>\n",
       "      <td>Q196</td>\n",
       "      <td>NaN</td>\n",
       "      <td>Is there any information regarding adults havi...</td>\n",
       "      <td>inguinal hernia</td>\n",
       "      <td>information</td>\n",
       "      <td>Sometimes people inherit DNA mutations from a ...</td>\n",
       "      <td>Is there any information regarding adults hav...</td>\n",
       "      <td>8</td>\n",
       "    </tr>\n",
       "    <tr>\n",
       "      <th>442</th>\n",
       "      <td>442</td>\n",
       "      <td>Q197</td>\n",
       "      <td>outdated tetracycline</td>\n",
       "      <td>Is it safe to take outdated tetracycline?</td>\n",
       "      <td>obesity</td>\n",
       "      <td>treatment</td>\n",
       "      <td>Diagnosing Leukemia: Physical Exam, Blood Test...</td>\n",
       "      <td>outdated tetracycline Is it safe to take outda...</td>\n",
       "      <td>18</td>\n",
       "    </tr>\n",
       "    <tr>\n",
       "      <th>443</th>\n",
       "      <td>443</td>\n",
       "      <td>Q198</td>\n",
       "      <td>duloxetine hcl dr</td>\n",
       "      <td>When is the best time of day to take Duloxetin...</td>\n",
       "      <td>ptsd</td>\n",
       "      <td>treatment</td>\n",
       "      <td>There are many treatment options for people wi...</td>\n",
       "      <td>duloxetine hcl dr When is the best time of day...</td>\n",
       "      <td>18</td>\n",
       "    </tr>\n",
       "    <tr>\n",
       "      <th>444</th>\n",
       "      <td>444</td>\n",
       "      <td>Q199</td>\n",
       "      <td>peptic ulcers &amp; tylenol</td>\n",
       "      <td>I have a history of peptic ulcers, so I don't ...</td>\n",
       "      <td>intraductal papilloma</td>\n",
       "      <td>treatment</td>\n",
       "      <td>Unlike other types of cancer, leukemia isn't a...</td>\n",
       "      <td>peptic ulcers &amp; tylenol I have a history of pe...</td>\n",
       "      <td>18</td>\n",
       "    </tr>\n",
       "    <tr>\n",
       "      <th>445</th>\n",
       "      <td>445</td>\n",
       "      <td>Q200</td>\n",
       "      <td>NaN</td>\n",
       "      <td>What is Nephrotic Syndrome.  What are its caus...</td>\n",
       "      <td>obesity</td>\n",
       "      <td>information</td>\n",
       "      <td>Treatment depends on a number of factors, incl...</td>\n",
       "      <td>What is Nephrotic Syndrome.  What are its cau...</td>\n",
       "      <td>8</td>\n",
       "    </tr>\n",
       "  </tbody>\n",
       "</table>\n",
       "<p>446 rows × 9 columns</p>\n",
       "</div>"
      ],
      "text/plain": [
       "     Unnamed: 0   qid                                            subject  \\\n",
       "0             0   1.0                                       lyme disease   \n",
       "1             1   2.0                                  raynauds syndrome   \n",
       "2             2   5.0                                   burn to my wrist   \n",
       "3             3   6.0                             treatment of parkinson   \n",
       "4             4   8.0  periventricular heterotopia.  scoliosis  - pos...   \n",
       "..          ...   ...                                                ...   \n",
       "441         441  Q196                                                NaN   \n",
       "442         442  Q197                              outdated tetracycline   \n",
       "443         443  Q198                                  duloxetine hcl dr   \n",
       "444         444  Q199                            peptic ulcers & tylenol   \n",
       "445         445  Q200                                                NaN   \n",
       "\n",
       "                                               message  \\\n",
       "0    12 years ago I was bitten by tick while deer h...   \n",
       "1    My sons middle toe turned white after being in...   \n",
       "2    Hello I burnt my wrist 2 days ago and after la...   \n",
       "3    I AM HAVING PARKINSON FOR LAST 8 YEARS. SO FAR...   \n",
       "4    Question in laymen terms: Has any genetic or o...   \n",
       "..                                                 ...   \n",
       "441  Is there any information regarding adults havi...   \n",
       "442          Is it safe to take outdated tetracycline?   \n",
       "443  When is the best time of day to take Duloxetin...   \n",
       "444  I have a history of peptic ulcers, so I don't ...   \n",
       "445  What is Nephrotic Syndrome.  What are its caus...   \n",
       "\n",
       "                                       focus     category  \\\n",
       "0                               lyme disease  information   \n",
       "1                          raynauds syndrome      symptom   \n",
       "2                                       burn    treatment   \n",
       "3                                  parkinson    treatment   \n",
       "4    periventricular heterotopia,  scoliosis  information   \n",
       "..                                       ...          ...   \n",
       "441                          inguinal hernia  information   \n",
       "442                                  obesity    treatment   \n",
       "443                                     ptsd    treatment   \n",
       "444                    intraductal papilloma    treatment   \n",
       "445                                  obesity  information   \n",
       "\n",
       "                                                answer  \\\n",
       "0    Lyme disease tests are used to determine if a ...   \n",
       "1    Only one finger or toe or parts of one or more...   \n",
       "2    Before giving first aid, it is important to de...   \n",
       "3    you should know that people who have Parkinson...   \n",
       "4    Isolated lissencephaly sequence (ILS) is a con...   \n",
       "..                                                 ...   \n",
       "441  Sometimes people inherit DNA mutations from a ...   \n",
       "442  Diagnosing Leukemia: Physical Exam, Blood Test...   \n",
       "443  There are many treatment options for people wi...   \n",
       "444  Unlike other types of cancer, leukemia isn't a...   \n",
       "445  Treatment depends on a number of factors, incl...   \n",
       "\n",
       "                                            user_query  category_encoded  \n",
       "0    lyme disease 12 years ago I was bitten by tick...                 8  \n",
       "1    raynauds syndrome My sons middle toe turned wh...                16  \n",
       "2    burn to my wrist Hello I burnt my wrist 2 days...                18  \n",
       "3    treatment of parkinson I AM HAVING PARKINSON F...                18  \n",
       "4    periventricular heterotopia.  scoliosis  - pos...                 8  \n",
       "..                                                 ...               ...  \n",
       "441   Is there any information regarding adults hav...                 8  \n",
       "442  outdated tetracycline Is it safe to take outda...                18  \n",
       "443  duloxetine hcl dr When is the best time of day...                18  \n",
       "444  peptic ulcers & tylenol I have a history of pe...                18  \n",
       "445   What is Nephrotic Syndrome.  What are its cau...                 8  \n",
       "\n",
       "[446 rows x 9 columns]"
      ]
     },
     "execution_count": 23,
     "metadata": {},
     "output_type": "execute_result"
    }
   ],
   "source": [
    "df"
   ]
  },
  {
   "cell_type": "code",
   "execution_count": 24,
   "metadata": {},
   "outputs": [],
   "source": [
    "y = np.array(df['category_encoded'].values, dtype=int) "
   ]
  },
  {
   "cell_type": "markdown",
   "metadata": {},
   "source": [
    "Now again, we will tokenize the vectors."
   ]
  },
  {
   "cell_type": "code",
   "execution_count": 25,
   "metadata": {},
   "outputs": [],
   "source": [
    "tokenizer = Tokenizer()\n",
    "tokenizer.fit_on_texts(df['user_query'].values)\n",
    "sequences = tokenizer.texts_to_sequences(df['user_query'].values)\n",
    "X = pad_sequences(sequences, maxlen=100)"
   ]
  },
  {
   "cell_type": "code",
   "execution_count": 26,
   "metadata": {},
   "outputs": [
    {
     "name": "stdout",
     "output_type": "stream",
     "text": [
      "Preprocessed text: bone-joint degeneration in the hand or fingers? I notice that the joints or bones in my  hands hurt sharply when working, cooking and lately I have been dropping things from my left hand; even a sudden twist send shock thru my body-What is this?\n",
      "\n",
      "Tokenized text: [1050, 378, 673, 10, 4, 440, 22, 1242, 1, 624, 19, 4, 1243, 22, 871, 10, 6, 872, 625, 2092, 59, 512, 2093, 2, 2094, 1, 9, 42, 2095, 256, 34, 6, 187, 440, 131, 5, 1239, 2096, 176, 1244, 1062, 6, 120, 20, 7, 15]\n",
      "\n",
      "Padded text: [   0    0    0    0    0    0    0    0    0    0    0    0    0    0\n",
      "    0    0    0    0    0    0    0    0    0    0    0    0    0    0\n",
      "    0    0    0    0    0    0    0    0    0    0    0    0    0    0\n",
      "    0    0    0    0    0    0    0    0    0    0    0    0 1050  378\n",
      "  673   10    4  440   22 1242    1  624   19    4 1243   22  871   10\n",
      "    6  872  625 2092   59  512 2093    2 2094    1    9   42 2095  256\n",
      "   34    6  187  440  131    5 1239 2096  176 1244 1062    6  120   20\n",
      "    7   15]\n",
      "\n",
      "Padded text Length:  100\n"
     ]
    }
   ],
   "source": [
    "print('Preprocessed text:', df['user_query'].values[100])\n",
    "print('\\nTokenized text:', sequences[100])\n",
    "print('\\nPadded text:', X[100])\n",
    "print('\\nPadded text Length: ', len(X[100]))"
   ]
  },
  {
   "cell_type": "code",
   "execution_count": 27,
   "metadata": {},
   "outputs": [
    {
     "data": {
      "text/plain": [
       "array([[ 0.        ,  0.        ,  0.        , ...,  0.        ,\n",
       "         0.        ,  0.        ],\n",
       "       [-0.046539  ,  0.61966002,  0.56647003, ..., -0.37616   ,\n",
       "        -0.032502  ,  0.80620003],\n",
       "       [-0.071953  ,  0.23127   ,  0.023731  , ..., -0.71894997,\n",
       "         0.86894   ,  0.19539   ],\n",
       "       ...,\n",
       "       [-0.22701   ,  0.1451    , -1.34800005, ..., -0.45699999,\n",
       "         0.72389001,  0.49561   ],\n",
       "       [ 0.44058999, -0.97942001, -0.83039999, ..., -0.64083999,\n",
       "         0.41883999, -0.51876003],\n",
       "       [ 0.09453   ,  0.010432  ,  0.73332   , ...,  0.1249    ,\n",
       "         0.14628001, -0.58969003]])"
      ]
     },
     "execution_count": 27,
     "metadata": {},
     "output_type": "execute_result"
    }
   ],
   "source": [
    "embedding_matrix = np.zeros((len(tokenizer.word_index) + 1, 100))\n",
    "for word, i in tokenizer.word_index.items():\n",
    "    if word in glove_vectors.key_to_index:  # Updated to use .key_to_index\n",
    "        embedding_matrix[i] = glove_vectors.get_vector(word)\n",
    "\n",
    "embedding_matrix"
   ]
  },
  {
   "cell_type": "code",
   "execution_count": 28,
   "metadata": {},
   "outputs": [],
   "source": [
    "num_categories = len(df['category'].unique())"
   ]
  },
  {
   "cell_type": "code",
   "execution_count": 29,
   "metadata": {},
   "outputs": [
    {
     "name": "stdout",
     "output_type": "stream",
     "text": [
      "Model: \"sequential\"\n",
      "_________________________________________________________________\n",
      " Layer (type)                Output Shape              Param #   \n",
      "=================================================================\n",
      " embedding (Embedding)       (None, 100, 100)          337400    \n",
      "                                                                 \n",
      " lstm (LSTM)                 (None, 128)               117248    \n",
      "                                                                 \n",
      " dense (Dense)               (None, 19)                2451      \n",
      "                                                                 \n",
      "=================================================================\n",
      "Total params: 457,099\n",
      "Trainable params: 119,699\n",
      "Non-trainable params: 337,400\n",
      "_________________________________________________________________\n"
     ]
    },
    {
     "name": "stderr",
     "output_type": "stream",
     "text": [
      "2024-08-04 23:50:26.458487: I tensorflow/core/common_runtime/executor.cc:1197] [/device:CPU:0] (DEBUG INFO) Executor start aborting (this does not indicate an error and you can ignore this message): INVALID_ARGUMENT: You must feed a value for placeholder tensor 'gradients/split_2_grad/concat/split_2/split_dim' with dtype int32\n",
      "\t [[{{node gradients/split_2_grad/concat/split_2/split_dim}}]]\n",
      "2024-08-04 23:50:26.461267: I tensorflow/core/common_runtime/executor.cc:1197] [/device:CPU:0] (DEBUG INFO) Executor start aborting (this does not indicate an error and you can ignore this message): INVALID_ARGUMENT: You must feed a value for placeholder tensor 'gradients/split_grad/concat/split/split_dim' with dtype int32\n",
      "\t [[{{node gradients/split_grad/concat/split/split_dim}}]]\n",
      "2024-08-04 23:50:26.469564: I tensorflow/core/common_runtime/executor.cc:1197] [/device:CPU:0] (DEBUG INFO) Executor start aborting (this does not indicate an error and you can ignore this message): INVALID_ARGUMENT: You must feed a value for placeholder tensor 'gradients/split_1_grad/concat/split_1/split_dim' with dtype int32\n",
      "\t [[{{node gradients/split_1_grad/concat/split_1/split_dim}}]]\n"
     ]
    }
   ],
   "source": [
    "model_lstm = Sequential([\n",
    "    Embedding(len(tokenizer.word_index) + 1, 100, weights=[embedding_matrix], input_length=100, trainable=False),\n",
    "    LSTM(128),\n",
    "    Dense(num_categories, activation='softmax')])\n",
    "\n",
    "model_lstm.summary()"
   ]
  },
  {
   "cell_type": "code",
   "execution_count": 30,
   "metadata": {},
   "outputs": [
    {
     "name": "stdout",
     "output_type": "stream",
     "text": [
      "Epoch 1/20\n"
     ]
    },
    {
     "name": "stderr",
     "output_type": "stream",
     "text": [
      "2024-08-04 23:50:27.262863: I tensorflow/core/common_runtime/executor.cc:1197] [/device:CPU:0] (DEBUG INFO) Executor start aborting (this does not indicate an error and you can ignore this message): INVALID_ARGUMENT: You must feed a value for placeholder tensor 'gradients/split_2_grad/concat/split_2/split_dim' with dtype int32\n",
      "\t [[{{node gradients/split_2_grad/concat/split_2/split_dim}}]]\n",
      "2024-08-04 23:50:27.265454: I tensorflow/core/common_runtime/executor.cc:1197] [/device:CPU:0] (DEBUG INFO) Executor start aborting (this does not indicate an error and you can ignore this message): INVALID_ARGUMENT: You must feed a value for placeholder tensor 'gradients/split_grad/concat/split/split_dim' with dtype int32\n",
      "\t [[{{node gradients/split_grad/concat/split/split_dim}}]]\n",
      "2024-08-04 23:50:27.267407: I tensorflow/core/common_runtime/executor.cc:1197] [/device:CPU:0] (DEBUG INFO) Executor start aborting (this does not indicate an error and you can ignore this message): INVALID_ARGUMENT: You must feed a value for placeholder tensor 'gradients/split_1_grad/concat/split_1/split_dim' with dtype int32\n",
      "\t [[{{node gradients/split_1_grad/concat/split_1/split_dim}}]]\n",
      "2024-08-04 23:50:28.052882: I tensorflow/core/common_runtime/executor.cc:1197] [/device:CPU:0] (DEBUG INFO) Executor start aborting (this does not indicate an error and you can ignore this message): INVALID_ARGUMENT: You must feed a value for placeholder tensor 'gradients/split_2_grad/concat/split_2/split_dim' with dtype int32\n",
      "\t [[{{node gradients/split_2_grad/concat/split_2/split_dim}}]]\n",
      "2024-08-04 23:50:28.055796: I tensorflow/core/common_runtime/executor.cc:1197] [/device:CPU:0] (DEBUG INFO) Executor start aborting (this does not indicate an error and you can ignore this message): INVALID_ARGUMENT: You must feed a value for placeholder tensor 'gradients/split_grad/concat/split/split_dim' with dtype int32\n",
      "\t [[{{node gradients/split_grad/concat/split/split_dim}}]]\n",
      "2024-08-04 23:50:28.058183: I tensorflow/core/common_runtime/executor.cc:1197] [/device:CPU:0] (DEBUG INFO) Executor start aborting (this does not indicate an error and you can ignore this message): INVALID_ARGUMENT: You must feed a value for placeholder tensor 'gradients/split_1_grad/concat/split_1/split_dim' with dtype int32\n",
      "\t [[{{node gradients/split_1_grad/concat/split_1/split_dim}}]]\n"
     ]
    },
    {
     "name": "stdout",
     "output_type": "stream",
     "text": [
      "12/12 [==============================] - ETA: 0s - loss: 2.2941 - accuracy: 0.4270"
     ]
    },
    {
     "name": "stderr",
     "output_type": "stream",
     "text": [
      "2024-08-04 23:50:31.135152: I tensorflow/core/common_runtime/executor.cc:1197] [/device:CPU:0] (DEBUG INFO) Executor start aborting (this does not indicate an error and you can ignore this message): INVALID_ARGUMENT: You must feed a value for placeholder tensor 'gradients/split_2_grad/concat/split_2/split_dim' with dtype int32\n",
      "\t [[{{node gradients/split_2_grad/concat/split_2/split_dim}}]]\n",
      "2024-08-04 23:50:31.137555: I tensorflow/core/common_runtime/executor.cc:1197] [/device:CPU:0] (DEBUG INFO) Executor start aborting (this does not indicate an error and you can ignore this message): INVALID_ARGUMENT: You must feed a value for placeholder tensor 'gradients/split_grad/concat/split/split_dim' with dtype int32\n",
      "\t [[{{node gradients/split_grad/concat/split/split_dim}}]]\n",
      "2024-08-04 23:50:31.139965: I tensorflow/core/common_runtime/executor.cc:1197] [/device:CPU:0] (DEBUG INFO) Executor start aborting (this does not indicate an error and you can ignore this message): INVALID_ARGUMENT: You must feed a value for placeholder tensor 'gradients/split_1_grad/concat/split_1/split_dim' with dtype int32\n",
      "\t [[{{node gradients/split_1_grad/concat/split_1/split_dim}}]]\n"
     ]
    },
    {
     "name": "stdout",
     "output_type": "stream",
     "text": [
      "12/12 [==============================] - 5s 191ms/step - loss: 2.2941 - accuracy: 0.4270 - val_loss: 2.2785 - val_accuracy: 0.4111\n",
      "Epoch 2/20\n",
      "12/12 [==============================] - 2s 136ms/step - loss: 1.9038 - accuracy: 0.4888 - val_loss: 2.0770 - val_accuracy: 0.4111\n",
      "Epoch 3/20\n",
      "12/12 [==============================] - 2s 134ms/step - loss: 1.8212 - accuracy: 0.4888 - val_loss: 2.1117 - val_accuracy: 0.4111\n",
      "Epoch 4/20\n",
      "12/12 [==============================] - 2s 134ms/step - loss: 1.7929 - accuracy: 0.4888 - val_loss: 2.0908 - val_accuracy: 0.4111\n",
      "Epoch 5/20\n",
      "12/12 [==============================] - 2s 135ms/step - loss: 1.7536 - accuracy: 0.4916 - val_loss: 2.1013 - val_accuracy: 0.4111\n",
      "Epoch 6/20\n",
      "12/12 [==============================] - 2s 133ms/step - loss: 1.7254 - accuracy: 0.4916 - val_loss: 2.1042 - val_accuracy: 0.4111\n",
      "Epoch 7/20\n",
      "12/12 [==============================] - 2s 135ms/step - loss: 1.6830 - accuracy: 0.4916 - val_loss: 2.1277 - val_accuracy: 0.4000\n",
      "Epoch 8/20\n",
      "12/12 [==============================] - 2s 132ms/step - loss: 1.6673 - accuracy: 0.4944 - val_loss: 2.1734 - val_accuracy: 0.4111\n",
      "Epoch 9/20\n",
      "12/12 [==============================] - 2s 147ms/step - loss: 1.5888 - accuracy: 0.5028 - val_loss: 2.1451 - val_accuracy: 0.4111\n",
      "Epoch 10/20\n",
      "12/12 [==============================] - 2s 136ms/step - loss: 1.5250 - accuracy: 0.5112 - val_loss: 2.3017 - val_accuracy: 0.4000\n",
      "Epoch 11/20\n",
      "12/12 [==============================] - 2s 132ms/step - loss: 1.4616 - accuracy: 0.5197 - val_loss: 2.1760 - val_accuracy: 0.3778\n",
      "Epoch 12/20\n",
      "12/12 [==============================] - 2s 133ms/step - loss: 1.3873 - accuracy: 0.5590 - val_loss: 2.2014 - val_accuracy: 0.3778\n",
      "Epoch 13/20\n",
      "12/12 [==============================] - 2s 137ms/step - loss: 1.3085 - accuracy: 0.5787 - val_loss: 2.3031 - val_accuracy: 0.3667\n",
      "Epoch 14/20\n",
      "12/12 [==============================] - 2s 142ms/step - loss: 1.3173 - accuracy: 0.6236 - val_loss: 2.3387 - val_accuracy: 0.4000\n",
      "Epoch 15/20\n",
      "12/12 [==============================] - 2s 132ms/step - loss: 1.1889 - accuracy: 0.5955 - val_loss: 2.3070 - val_accuracy: 0.3889\n",
      "Epoch 16/20\n",
      "12/12 [==============================] - 2s 133ms/step - loss: 1.1562 - accuracy: 0.6011 - val_loss: 2.3309 - val_accuracy: 0.3556\n",
      "Epoch 17/20\n",
      "12/12 [==============================] - 2s 138ms/step - loss: 1.1682 - accuracy: 0.6433 - val_loss: 2.2958 - val_accuracy: 0.4222\n",
      "Epoch 18/20\n",
      "12/12 [==============================] - 2s 133ms/step - loss: 1.0168 - accuracy: 0.6910 - val_loss: 2.5633 - val_accuracy: 0.3889\n",
      "Epoch 19/20\n",
      "12/12 [==============================] - 2s 141ms/step - loss: 0.9712 - accuracy: 0.6629 - val_loss: 2.4077 - val_accuracy: 0.3778\n",
      "Epoch 20/20\n",
      "12/12 [==============================] - 2s 136ms/step - loss: 0.8356 - accuracy: 0.7500 - val_loss: 2.5484 - val_accuracy: 0.3333\n"
     ]
    }
   ],
   "source": [
    "model_lstm.compile(optimizer='adam', loss='sparse_categorical_crossentropy', metrics=['accuracy'])\n",
    "\n",
    "# Ejemplo de entrenamiento del modelo y guardado del historial\n",
    "history_lstm = model_lstm.fit(X, y, epochs=20, validation_split=0.2)"
   ]
  },
  {
   "cell_type": "code",
   "execution_count": 31,
   "metadata": {},
   "outputs": [
    {
     "data": {
      "image/png": "[encoded data removed]",
      "text/plain": [
       "<Figure size 1200x600 with 2 Axes>"
      ]
     },
     "metadata": {},
     "output_type": "display_data"
    }
   ],
   "source": [
    "plt.figure(figsize=(12, 6))\n",
    "\n",
    "plt.subplot(1, 2, 1)\n",
    "plt.plot(history_lstm.history['accuracy'])\n",
    "plt.plot(history_lstm.history['val_accuracy'])\n",
    "plt.title('Model accuracy')\n",
    "plt.ylabel('Accuracy')\n",
    "plt.xlabel('Epoch')\n",
    "plt.legend(['Train', 'Val'], loc='upper left')\n",
    "\n",
    "plt.subplot(1, 2, 2)\n",
    "plt.plot(history_lstm.history['loss'])\n",
    "plt.plot(history_lstm.history['val_loss'])\n",
    "plt.title('Model loss')\n",
    "plt.ylabel('Loss')\n",
    "plt.xlabel('Epoch')\n",
    "plt.legend(['Train', 'Val'], loc='upper left')\n",
    "\n",
    "plt.tight_layout()\n",
    "plt.show()"
   ]
  },
  {
   "cell_type": "code",
   "execution_count": 32,
   "metadata": {},
   "outputs": [
    {
     "name": "stderr",
     "output_type": "stream",
     "text": [
      "2024-08-04 23:51:03.384509: I tensorflow/core/common_runtime/executor.cc:1197] [/device:CPU:0] (DEBUG INFO) Executor start aborting (this does not indicate an error and you can ignore this message): INVALID_ARGUMENT: You must feed a value for placeholder tensor 'gradients/split_2_grad/concat/split_2/split_dim' with dtype int32\n",
      "\t [[{{node gradients/split_2_grad/concat/split_2/split_dim}}]]\n",
      "2024-08-04 23:51:03.387088: I tensorflow/core/common_runtime/executor.cc:1197] [/device:CPU:0] (DEBUG INFO) Executor start aborting (this does not indicate an error and you can ignore this message): INVALID_ARGUMENT: You must feed a value for placeholder tensor 'gradients/split_grad/concat/split/split_dim' with dtype int32\n",
      "\t [[{{node gradients/split_grad/concat/split/split_dim}}]]\n",
      "2024-08-04 23:51:03.389364: I tensorflow/core/common_runtime/executor.cc:1197] [/device:CPU:0] (DEBUG INFO) Executor start aborting (this does not indicate an error and you can ignore this message): INVALID_ARGUMENT: You must feed a value for placeholder tensor 'gradients/split_1_grad/concat/split_1/split_dim' with dtype int32\n",
      "\t [[{{node gradients/split_1_grad/concat/split_1/split_dim}}]]\n"
     ]
    },
    {
     "name": "stdout",
     "output_type": "stream",
     "text": [
      "1/1 [==============================] - 1s 590ms/step\n"
     ]
    },
    {
     "data": {
      "text/plain": [
       "'treatment'"
      ]
     },
     "execution_count": 32,
     "metadata": {},
     "output_type": "execute_result"
    }
   ],
   "source": [
    "\n",
    "sequences_query = tokenizer.texts_to_sequences(np.array([\"Are large, inoperable schwannomas treatable or able to be shrunk with chemotherapy or radiation?\"], dtype=str))\n",
    "X_query = pad_sequences(sequences_query, maxlen=100)\n",
    "\n",
    "prediction = model_lstm.predict(X_query)\n",
    "index_of_max = np.argmax(prediction)\n",
    "unencoded_prediction = le.inverse_transform(np.array([index_of_max]))[0]\n",
    "unencoded_prediction\n",
    "\n",
    "\n"
   ]
  },
  {
   "cell_type": "code",
   "execution_count": 33,
   "metadata": {},
   "outputs": [],
   "source": [
    "model_lstm.save('model_lstm_v_1.0.h5')"
   ]
  },
  {
   "cell_type": "code",
   "execution_count": 34,
   "metadata": {},
   "outputs": [],
   "source": [
    "# Save the tokenizer\n",
    "#with open('tokenizer.pkl', 'wb') as file:\n",
    "#    pickle.dump(tokenizer, file)\n",
    "\n",
    "# Save the label encoder\n",
    "with open('label_encoder.pkl', 'wb') as file:\n",
    "    pickle.dump(le, file)\n"
   ]
  },
  {
   "cell_type": "code",
   "execution_count": 35,
   "metadata": {},
   "outputs": [],
   "source": [
    "from transformers import pipeline\n",
    "\n",
    "pipe = pipeline(\"question-answering\", model=\"pythonist/distilbert-base-uncased-finetuned-PubmedQA\")"
   ]
  },
  {
   "cell_type": "code",
   "execution_count": 36,
   "metadata": {},
   "outputs": [
    {
     "name": "stdout",
     "output_type": "stream",
     "text": [
      "Answer: widespread unemployment and economic disruption.\n",
      "Governments around the world have\n"
     ]
    }
   ],
   "source": [
    "from transformers import pipeline\n",
    "\n",
    "# Crear el pipeline para question-answering\n",
    "pipe = pipeline(\"question-answering\", model=\"pythonist/distilbert-base-uncased-finetuned-PubmedQA\")\n",
    "\n",
    "# Definir el contexto y la pregunta\n",
    "context = \"\"\"\n",
    "The COVID-19 pandemic has had a significant impact on the global economy, with widespread unemployment and economic disruption.\n",
    "Governments around the world have implemented various measures to mitigate the economic fallout, including fiscal stimulus packages and social support programs.\n",
    "\"\"\"\n",
    "question = \"What has been the impact of the COVID-19 pandemic on the global economy?\"\n",
    "\n",
    "# Obtener la respuesta del pipeline\n",
    "result = pipe(question=question, context=context)\n",
    "\n",
    "# Imprimir la respuesta\n",
    "print(f\"Answer: {result['answer']}\")\n"
   ]
  }
 ],
 "metadata": {
  "kernelspec": {
   "display_name": ".venv",
   "language": "python",
   "name": "python3"
  },
  "language_info": {
   "codemirror_mode": {
    "name": "ipython",
    "version": 3
   },
   "file_extension": ".py",
   "mimetype": "text/x-python",
   "name": "python",
   "nbconvert_exporter": "python",
   "pygments_lexer": "ipython3",
   "version": "3.10.9"
  }
 },
 "nbformat": 4,
 "nbformat_minor": 2
}
